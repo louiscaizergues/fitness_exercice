{
 "cells": [
  {
   "cell_type": "markdown",
   "id": "20a0b868",
   "metadata": {},
   "source": [
    "# 🏋️‍♂️ Fitness Sales Analysis\n",
    "\n",
    "## 🎯 Objectifs\n",
    "- Identifier les produits les plus performants\n",
    "- Analyser les canaux de vente et les zones géographiques les plus rentables\n",
    "- Extraire des insights business actionnables"
   ]
  },
  {
   "cell_type": "markdown",
   "id": "496d6fa6",
   "metadata": {},
   "source": [
    "## 📦 Chargement et préparation des données"
   ]
  },
  {
   "cell_type": "code",
   "execution_count": null,
   "id": "56bd0a22",
   "metadata": {},
   "outputs": [],
   "source": [
    "import pandas as pd\n",
    "from google.colab import files\n",
    "\n",
    "uploaded = files.upload()\n",
    "df = pd.read_csv(\"fitness_sales_data.csv\")\n",
    "\n",
    "df['order_date'] = pd.to_datetime(df['order_date'])\n",
    "df['total_sales'] = df['price'] * df['quantity']\n",
    "df['month'] = df['order_date'].dt.to_period('M')\n",
    "\n",
    "df.head()"
   ]
  },
  {
   "cell_type": "markdown",
   "id": "3835cb3f",
   "metadata": {},
   "source": [
    "## 🔍 Analyse exploratoire\n",
    "\n",
    "### Top 5 produits en volume"
   ]
  },
  {
   "cell_type": "code",
   "execution_count": null,
   "id": "8f7852cd",
   "metadata": {},
   "outputs": [],
   "source": [
    "top_produits = df.groupby('product_name')['quantity'].sum().sort_values(ascending=False).head(5)\n",
    "print(top_produits)"
   ]
  },
  {
   "cell_type": "markdown",
   "id": "4df2a9b2",
   "metadata": {},
   "source": [
    "### Top 5 produits en chiffre d'affaires"
   ]
  },
  {
   "cell_type": "code",
   "execution_count": null,
   "id": "85ea6cd9",
   "metadata": {},
   "outputs": [],
   "source": [
    "top_sales_products = df.groupby('product_name')['total_sales'].sum().sort_values(ascending=False).head(5)\n",
    "print(top_sales_products)"
   ]
  },
  {
   "cell_type": "markdown",
   "id": "1b24b058",
   "metadata": {},
   "source": [
    "### Évolution mensuelle du CA"
   ]
  },
  {
   "cell_type": "code",
   "execution_count": null,
   "id": "9e7f64ce",
   "metadata": {},
   "outputs": [],
   "source": [
    "monthly_trend = df.groupby('month')['total_sales'].sum()\n",
    "print(monthly_trend)"
   ]
  },
  {
   "cell_type": "markdown",
   "id": "8b040d06",
   "metadata": {},
   "source": [
    "### Répartition du CA par région"
   ]
  },
  {
   "cell_type": "code",
   "execution_count": null,
   "id": "5d27d661",
   "metadata": {},
   "outputs": [],
   "source": [
    "region = df.groupby('region')['total_sales'].sum()\n",
    "print(region)"
   ]
  },
  {
   "cell_type": "markdown",
   "id": "b15fa6ee",
   "metadata": {},
   "source": [
    "### Répartition du CA par canal de vente"
   ]
  },
  {
   "cell_type": "code",
   "execution_count": null,
   "id": "f7d6dc65",
   "metadata": {},
   "outputs": [],
   "source": [
    "channel = df.groupby('sales_channel')['total_sales'].sum()\n",
    "print(channel)"
   ]
  },
  {
   "cell_type": "markdown",
   "id": "8bb39467",
   "metadata": {},
   "source": [
    "## 📊 Visualisations\n",
    "\n",
    "### Top 5 produits par CA avec Seaborn"
   ]
  },
  {
   "cell_type": "code",
   "execution_count": null,
   "id": "514317b5",
   "metadata": {},
   "outputs": [],
   "source": [
    "import seaborn as sns\n",
    "import matplotlib.pyplot as plt\n",
    "\n",
    "top_df = top_sales_products.reset_index()\n",
    "top_df.columns = ['product_name', 'total_sales']\n",
    "\n",
    "plt.figure(figsize=(8,5))\n",
    "sns.barplot(data=top_df, x='total_sales', y='product_name', palette='viridis')\n",
    "plt.title(\"Top 5 produits par chiffre d'affaires\")\n",
    "plt.xlabel(\"Total des ventes (€)\")\n",
    "plt.ylabel(\"Produit\")\n",
    "plt.tight_layout()\n",
    "plt.show()"
   ]
  },
  {
   "cell_type": "markdown",
   "id": "90f95a35",
   "metadata": {},
   "source": [
    "### Répartition du CA par canal avec Plotly"
   ]
  },
  {
   "cell_type": "code",
   "execution_count": null,
   "id": "bcf6a912",
   "metadata": {},
   "outputs": [],
   "source": [
    "!pip install plotly\n",
    "import plotly.express as px\n",
    "\n",
    "channel_df = channel.reset_index()\n",
    "channel_df.columns = ['sales_channel', 'total_sales']\n",
    "\n",
    "fig = px.pie(channel_df, values='total_sales', names='sales_channel',\n",
    "             title=\"Parts de CA par canal de vente\",\n",
    "             color_discrete_sequence=px.colors.sequential.RdBu)\n",
    "fig.show()"
   ]
  },
  {
   "cell_type": "markdown",
   "id": "7e2d07ff",
   "metadata": {},
   "source": [
    "## 💡 Recommandations\n",
    "- Mettre en avant les produits générant le plus de CA dans les promos\n",
    "- Cibler les canaux les plus rentables (site web ou app ?) pour booster la conversion\n",
    "- Optimiser l’offre en fonction des régions les plus actives"
   ]
  }
 ],
 "metadata": {},
 "nbformat": 4,
 "nbformat_minor": 5
}